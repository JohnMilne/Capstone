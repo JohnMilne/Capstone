{
 "cells": [
  {
   "cell_type": "markdown",
   "metadata": {},
   "source": [
    "# Capstone - Malarial Cell Classifier"
   ]
  },
  {
   "cell_type": "markdown",
   "metadata": {},
   "source": [
    "## Imports of import"
   ]
  },
  {
   "cell_type": "code",
   "execution_count": 1,
   "metadata": {},
   "outputs": [
    {
     "name": "stderr",
     "output_type": "stream",
     "text": [
      "Using TensorFlow backend.\n"
     ]
    }
   ],
   "source": [
    "# Imports of import.\n",
    "import matplotlib.pyplot as plt\n",
    "import numpy as np\n",
    "import os\n",
    "\n",
    "# Keras imports.\n",
    "from keras.callbacks import Callback, EarlyStopping, ReduceLROnPlateau\n",
    "from keras.models import Sequential, load_model\n",
    "from keras.layers import Dense, Flatten\n",
    "from keras.layers import Conv2D, MaxPooling2D\n",
    "from keras.preprocessing.image import ImageDataGenerator"
   ]
  },
  {
   "cell_type": "markdown",
   "metadata": {},
   "source": [
    "## Creating the data generator that feeds the neural network"
   ]
  },
  {
   "cell_type": "code",
   "execution_count": 2,
   "metadata": {},
   "outputs": [
    {
     "name": "stdout",
     "output_type": "stream",
     "text": [
      "Found 20660 images belonging to 2 classes.\n",
      "Found 6886 images belonging to 2 classes.\n"
     ]
    }
   ],
   "source": [
    "# Constants that filter throughout thta I might want to change with one edit.\n",
    "# Batch size may or may not make a difference, but I wanted to be able to edit it:\n",
    "batch_size = 20\n",
    "\n",
    "# If the calculation is taking too long, I want to be able to change the number of calculation steps easily\n",
    "steps_per_epoch = 2500/batch_size\n",
    "\n",
    "# I also want to be able to change the training steps easily\n",
    "validation_steps = 1000/batch_size\n",
    "\n",
    "# I wanted to be able to change the number of epochs of training involved.\n",
    "epochs = 100\n",
    "\n",
    "# The image_size constant allows me to change the resultant size of the images in case a given image size is\n",
    "# to large for the computer's memory to handle - turns out 150x150 IS too large...\n",
    "image_size = 75\n",
    "\n",
    "# Image generator: This portion of the code takes the dataset and each pass through the entire dataset, it\n",
    "# generates a slightly different image based on the parameters given, so that my 27K dataset becomes more like\n",
    "# 270K in size when the individual images are compared.\n",
    "datagen = ImageDataGenerator(rescale          = 1.0/255.0, # The data need to be rescaled to a range of [0,1]\n",
    "                             shear_range      = 0.20,      # Making a parallelogram out of a square \n",
    "                             zoom_range       = 0.20,      # Zooming in or out by 20%\n",
    "                             horizontal_flip  = True,      # Flipping the image horizontally\n",
    "                             vertical_flip    = True,      # Flipping the image vertically\n",
    "                             validation_split = 0.25)      # How much of the data is reserved as the test data\n",
    "\n",
    "# This generetor uses the image generator to create a train/test/split from the images' location on disk and then\n",
    "# feeds it to the neural network for me without any headaches.\n",
    "train_generator = datagen.flow_from_directory('./cell_images',\n",
    "                                              target_size = (image_size, image_size),\n",
    "                                              batch_size  = batch_size,\n",
    "                                              class_mode  = 'binary',\n",
    "                                              subset      = 'training')\n",
    "\n",
    "validation_generator = datagen.flow_from_directory('./cell_images',\n",
    "                                                   target_size = (image_size, image_size),\n",
    "                                                   batch_size  = batch_size,\n",
    "                                                   class_mode  = 'binary',\n",
    "                                                   subset      = 'validation')"
   ]
  },
  {
   "cell_type": "markdown",
   "metadata": {},
   "source": [
    "# Creating the neural network"
   ]
  },
  {
   "cell_type": "code",
   "execution_count": 3,
   "metadata": {},
   "outputs": [
    {
     "name": "stdout",
     "output_type": "stream",
     "text": [
      "_________________________________________________________________\n",
      "Layer (type)                 Output Shape              Param #   \n",
      "=================================================================\n",
      "conv2d_1 (Conv2D)            (None, 73, 73, 75)        2100      \n",
      "_________________________________________________________________\n",
      "max_pooling2d_1 (MaxPooling2 (None, 36, 36, 75)        0         \n",
      "_________________________________________________________________\n",
      "conv2d_2 (Conv2D)            (None, 34, 34, 150)       101400    \n",
      "_________________________________________________________________\n",
      "max_pooling2d_2 (MaxPooling2 (None, 17, 17, 150)       0         \n",
      "_________________________________________________________________\n",
      "conv2d_3 (Conv2D)            (None, 15, 15, 150)       202650    \n",
      "_________________________________________________________________\n",
      "max_pooling2d_3 (MaxPooling2 (None, 7, 7, 150)         0         \n",
      "_________________________________________________________________\n",
      "conv2d_4 (Conv2D)            (None, 5, 5, 75)          101325    \n",
      "_________________________________________________________________\n",
      "flatten_1 (Flatten)          (None, 1875)              0         \n",
      "_________________________________________________________________\n",
      "dense_1 (Dense)              (None, 300)               562800    \n",
      "_________________________________________________________________\n",
      "dense_2 (Dense)              (None, 150)               45150     \n",
      "_________________________________________________________________\n",
      "dense_3 (Dense)              (None, 1)                 151       \n",
      "=================================================================\n",
      "Total params: 1,015,576\n",
      "Trainable params: 1,015,576\n",
      "Non-trainable params: 0\n",
      "_________________________________________________________________\n"
     ]
    }
   ],
   "source": [
    "# The base model is Sequential, so this is an instantiation of that.\n",
    "model = Sequential()\n",
    "\n",
    "# Adding the first convolutional layer to the network requires setting up the input_shape.\n",
    "# All of the additional layers do not require that.\n",
    "model.add(Conv2D(image_size,                                # One node per pixel in the first layer\n",
    "                 kernel_size = (3, 3),                      # The kernel is the edge detector for the network              \n",
    "                 input_shape = (image_size, image_size, 3), # Required first layer input\n",
    "                 activation  = 'relu'))                     # Activation is 'relu' for general neural networks\n",
    "\n",
    "# MaxPooling reduces the size of the input in two dimensions, so (2,2) cuts the input to the next layer in half.\n",
    "model.add(MaxPooling2D(pool_size = (2, 2)))\n",
    "\n",
    "# The next convolutional layer will be twice the size of the previous layer, everything else being the same.\n",
    "model.add(Conv2D(image_size*2,                              \n",
    "                 kernel_size = (3, 3),\n",
    "                 activation  = 'relu'))\n",
    "\n",
    "# Cutting the next layer's input by half again.\n",
    "model.add(MaxPooling2D(pool_size = (2, 2)))\n",
    "\n",
    "# Same as the previous convolutional layer.\n",
    "model.add(Conv2D(image_size*2,\n",
    "                 kernel_size = (3, 3),\n",
    "                 activation  = 'relu'))\n",
    "\n",
    "# Another pooling layer to cut the output in half yet again\n",
    "model.add(MaxPooling2D(pool_size = (2, 2)))\n",
    "\n",
    "# Last convolutional layer is back the original layer in size, all else being equal.\n",
    "model.add(Conv2D(image_size,\n",
    "                 kernel_size = (3, 3),\n",
    "                 activation  = 'relu'))\n",
    "\n",
    "# Now the convolutional neural network's information is being passed to a regular Dense neural network.  This\n",
    "# change requires the Flatten() layer so that the data is now a 1-D array when the Dense layers see it.\n",
    "model.add(Flatten())\n",
    "\n",
    "# I decided to start relatively big with 200 nodes in the network:\n",
    "model.add(Dense(300,\n",
    "                activation  = 'relu'))\n",
    "\n",
    "# ...and then half it again:\n",
    "model.add(Dense(150,\n",
    "                activation  = 'relu'))\n",
    "\n",
    "# And now it's time to get the output.  A binary classification problem requires a 1-node output with a sigmoid\n",
    "# activation.\n",
    "model.add(Dense(1,\n",
    "                activation  = 'sigmoid'))\n",
    "\n",
    "# A nice picture of the layers of the neural network and the sizes of the inputs/outputs between the layers.\n",
    "model.summary()"
   ]
  },
  {
   "cell_type": "markdown",
   "metadata": {},
   "source": [
    "## Compiling the neural network"
   ]
  },
  {
   "cell_type": "code",
   "execution_count": 4,
   "metadata": {},
   "outputs": [],
   "source": [
    "# The required compilation step to finish creating the neural network.\n",
    "# binary_crossentropy is the loss function used for binary classification.\n",
    "model.compile(loss      = 'binary_crossentropy',\n",
    "              optimizer = 'adam',                # I use the adam optimizer because we were taught that.\n",
    "              metrics   = ['accuracy'])          # I'll be measuring the performance through accuracy."
   ]
  },
  {
   "cell_type": "markdown",
   "metadata": {},
   "source": [
    "## Fitting the neural network"
   ]
  },
  {
   "cell_type": "code",
   "execution_count": 5,
   "metadata": {},
   "outputs": [
    {
     "name": "stdout",
     "output_type": "stream",
     "text": [
      "Epoch 1/100\n",
      "125/125 [==============================] - 150s 1s/step - loss: 0.6942 - acc: 0.5272 - val_loss: 0.6924 - val_acc: 0.4900\n",
      "Epoch 2/100\n",
      "125/125 [==============================] - 154s 1s/step - loss: 0.6725 - acc: 0.5680 - val_loss: 1.1770 - val_acc: 0.5560\n",
      "Epoch 3/100\n",
      "125/125 [==============================] - 176s 1s/step - loss: 0.4835 - acc: 0.7956 - val_loss: 0.4648 - val_acc: 0.7600\n",
      "Epoch 4/100\n",
      "125/125 [==============================] - 146s 1s/step - loss: 0.3008 - acc: 0.9080 - val_loss: 0.2847 - val_acc: 0.8960\n",
      "Epoch 5/100\n",
      "125/125 [==============================] - 154s 1s/step - loss: 0.2555 - acc: 0.9300 - val_loss: 0.1414 - val_acc: 0.9580\n",
      "Epoch 6/100\n",
      "125/125 [==============================] - 147s 1s/step - loss: 0.1956 - acc: 0.9404 - val_loss: 0.1678 - val_acc: 0.9430\n",
      "Epoch 7/100\n",
      "125/125 [==============================] - 147s 1s/step - loss: 0.1930 - acc: 0.9416 - val_loss: 0.1853 - val_acc: 0.9523\n",
      "Epoch 8/100\n",
      "125/125 [==============================] - 149s 1s/step - loss: 0.2059 - acc: 0.9396 - val_loss: 0.1936 - val_acc: 0.9510\n",
      "Epoch 9/100\n",
      "125/125 [==============================] - 148s 1s/step - loss: 0.1819 - acc: 0.9452 - val_loss: 0.1965 - val_acc: 0.9370\n",
      "Epoch 10/100\n",
      "125/125 [==============================] - 147s 1s/step - loss: 0.1790 - acc: 0.9476 - val_loss: 0.1304 - val_acc: 0.9600\n",
      "Epoch 11/100\n",
      "125/125 [==============================] - 148s 1s/step - loss: 0.1927 - acc: 0.9424 - val_loss: 0.1639 - val_acc: 0.9570\n",
      "Epoch 12/100\n",
      "125/125 [==============================] - 148s 1s/step - loss: 0.1821 - acc: 0.9456 - val_loss: 0.1396 - val_acc: 0.9440\n",
      "Epoch 13/100\n",
      "125/125 [==============================] - 148s 1s/step - loss: 0.1760 - acc: 0.9420 - val_loss: 0.2187 - val_acc: 0.9340\n",
      "Epoch 14/100\n",
      "125/125 [==============================] - 147s 1s/step - loss: 0.1585 - acc: 0.9544 - val_loss: 0.1941 - val_acc: 0.9270\n",
      "Epoch 15/100\n",
      "125/125 [==============================] - 147s 1s/step - loss: 0.1681 - acc: 0.9476 - val_loss: 0.1546 - val_acc: 0.9460\n",
      "Epoch 16/100\n",
      "125/125 [==============================] - 147s 1s/step - loss: 0.1793 - acc: 0.9472 - val_loss: 0.1576 - val_acc: 0.9540\n",
      "Epoch 17/100\n",
      "125/125 [==============================] - 147s 1s/step - loss: 0.1485 - acc: 0.9560 - val_loss: 0.1563 - val_acc: 0.9440\n",
      "Epoch 18/100\n",
      "125/125 [==============================] - 147s 1s/step - loss: 0.1853 - acc: 0.9436 - val_loss: 0.1723 - val_acc: 0.9410\n",
      "Epoch 19/100\n",
      "125/125 [==============================] - 147s 1s/step - loss: 0.1559 - acc: 0.9508 - val_loss: 0.1604 - val_acc: 0.9460\n",
      "Epoch 20/100\n",
      "125/125 [==============================] - 147s 1s/step - loss: 0.1687 - acc: 0.9484 - val_loss: 0.1492 - val_acc: 0.9510\n",
      "Epoch 21/100\n",
      "125/125 [==============================] - 147s 1s/step - loss: 0.1578 - acc: 0.9512 - val_loss: 0.1794 - val_acc: 0.9452\n",
      "Epoch 22/100\n",
      "125/125 [==============================] - 148s 1s/step - loss: 0.1931 - acc: 0.9392 - val_loss: 0.1910 - val_acc: 0.9420\n",
      "Epoch 23/100\n",
      "125/125 [==============================] - 147s 1s/step - loss: 0.1621 - acc: 0.9480 - val_loss: 0.1517 - val_acc: 0.9520\n",
      "Epoch 24/100\n",
      "125/125 [==============================] - 147s 1s/step - loss: 0.1476 - acc: 0.9556 - val_loss: 0.1681 - val_acc: 0.9530\n",
      "Epoch 25/100\n",
      "125/125 [==============================] - 147s 1s/step - loss: 0.1547 - acc: 0.9536 - val_loss: 0.1314 - val_acc: 0.9590\n",
      "Epoch 26/100\n",
      "125/125 [==============================] - 147s 1s/step - loss: 0.1464 - acc: 0.9552 - val_loss: 0.1574 - val_acc: 0.9500\n",
      "Epoch 27/100\n",
      "125/125 [==============================] - 147s 1s/step - loss: 0.1728 - acc: 0.9436 - val_loss: 0.1719 - val_acc: 0.9360\n",
      "Epoch 28/100\n",
      "125/125 [==============================] - 148s 1s/step - loss: 0.1546 - acc: 0.9540 - val_loss: 0.1366 - val_acc: 0.9523\n",
      "Epoch 29/100\n",
      "125/125 [==============================] - 147s 1s/step - loss: 0.1322 - acc: 0.9604 - val_loss: 0.1685 - val_acc: 0.9440\n",
      "Epoch 30/100\n",
      "125/125 [==============================] - 146s 1s/step - loss: 0.1444 - acc: 0.9560 - val_loss: 0.1673 - val_acc: 0.9360\n",
      "Epoch 00030: early stopping\n"
     ]
    }
   ],
   "source": [
    "# I want my model to stop if it isn't getting any better after 20 consecutive epochs.\n",
    "early_stopping = EarlyStopping(monitor  = 'val_loss',\n",
    "                               patience = 20,\n",
    "                               verbose  = 1)\n",
    "\n",
    "# I also want to attempt to reduce the learning rate 20% of the way into my EarlyStopping patience.\n",
    "reduce_learning_rate = ReduceLROnPlateau(monitor  = 'val_loss',\n",
    "                                         patience = 4,\n",
    "                                         factor   = 0.15,\n",
    "                                         min_lr   = 0.0005)\n",
    "\n",
    "# Now it's time to fit and test the model:\n",
    "cnn = model.fit_generator(train_generator,\n",
    "                          steps_per_epoch  = steps_per_epoch,\n",
    "                          epochs           = epochs,\n",
    "                          callbacks        = [early_stopping, reduce_learning_rate],\n",
    "                          validation_data  = validation_generator,\n",
    "                          validation_steps = validation_steps)"
   ]
  },
  {
   "cell_type": "code",
   "execution_count": 6,
   "metadata": {},
   "outputs": [],
   "source": [
    "# Saving the model in case I want to run multiple learning trials\n",
    "# Also, each tweak of the neural network is going to be saved separately, so I don't want to do any more work\n",
    "# editing this line everytime I do a tweak and I don't want it to save if the accuracy was not at least 90%.\n",
    "file_names = os.listdir('./working_model_saves/')\n",
    "model.save(f'./working_model_saves/cnn_malarial_cell_identifier_mk{len(file_names)+1}.h5')\n",
    "del file_names"
   ]
  },
  {
   "cell_type": "markdown",
   "metadata": {},
   "source": [
    "## Plotting the accuracy changes over the training period"
   ]
  },
  {
   "cell_type": "code",
   "execution_count": 9,
   "metadata": {},
   "outputs": [
    {
     "data": {
      "image/png": "[encoded data removed]",
      "text/plain": [
       "<Figure size 864x576 with 1 Axes>"
      ]
     },
     "metadata": {
      "needs_background": "light"
     },
     "output_type": "display_data"
    }
   ],
   "source": [
    "# Now that the model is fit and tested, let's see how the training went:\n",
    "plt.figure(figsize  = (12,8))\n",
    "plt.plot(np.arange(len(cnn.history['acc'])),\n",
    "         cnn.history['acc'],\n",
    "         label      = 'Training Accuracy');\n",
    "plt.plot(np.arange(len(cnn.history['val_acc'])),\n",
    "         cnn.history['val_acc'],\n",
    "         label      = 'Testing Accuracy');\n",
    "plt.title('Training Accuracy and Testing Accuracy for CNN',\n",
    "           color    = 'dimgrey',\n",
    "           fontsize = 20,\n",
    "           pad      = 15);\n",
    "plt.xlabel('Training Epochs',\n",
    "           color    = 'dimgrey',\n",
    "           fontsize = 18,\n",
    "           labelpad = 5);\n",
    "plt.ylabel('Percent Accuracy',\n",
    "           color    = 'dimgrey',\n",
    "           fontsize = 18,\n",
    "           labelpad = 5);\n",
    "plt.grid(True);\n",
    "plt.legend();"
   ]
  }
 ],
 "metadata": {
  "kernelspec": {
   "display_name": "Python 3",
   "language": "python",
   "name": "python3"
  },
  "language_info": {
   "codemirror_mode": {
    "name": "ipython",
    "version": 3
   },
   "file_extension": ".py",
   "mimetype": "text/x-python",
   "name": "python",
   "nbconvert_exporter": "python",
   "pygments_lexer": "ipython3",
   "version": "3.6.8"
  }
 },
 "nbformat": 4,
 "nbformat_minor": 2
}
